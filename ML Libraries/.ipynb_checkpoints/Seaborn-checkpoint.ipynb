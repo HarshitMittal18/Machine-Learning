{
 "cells": [
  {
   "cell_type": "markdown",
   "id": "chief-dakota",
   "metadata": {},
   "source": [
    "### Seaborn"
   ]
  },
  {
   "cell_type": "markdown",
   "id": "restricted-amber",
   "metadata": {},
   "source": [
    "<small><ul>\n",
    "    <li>Seaborn is a Python data visualization library based on matplotlib. \n",
    "    <li>Helps the programmer to plot very complex plots in python"
   ]
  },
  {
   "cell_type": "code",
   "execution_count": null,
   "id": "unexpected-finger",
   "metadata": {},
   "outputs": [],
   "source": []
  }
 ],
 "metadata": {
  "kernelspec": {
   "display_name": "Python 3",
   "language": "python",
   "name": "python3"
  },
  "language_info": {
   "codemirror_mode": {
    "name": "ipython",
    "version": 3
   },
   "file_extension": ".py",
   "mimetype": "text/x-python",
   "name": "python",
   "nbconvert_exporter": "python",
   "pygments_lexer": "ipython3",
   "version": "3.7.3"
  }
 },
 "nbformat": 4,
 "nbformat_minor": 5
}
