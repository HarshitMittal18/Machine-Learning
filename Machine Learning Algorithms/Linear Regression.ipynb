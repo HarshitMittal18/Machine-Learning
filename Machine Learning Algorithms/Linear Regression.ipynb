{
 "cells": [
  {
   "cell_type": "code",
   "execution_count": 88,
   "id": "twelve-bernard",
   "metadata": {},
   "outputs": [],
   "source": [
    "import numpy as np\n",
    "import matplotlib.pyplot as plt\n",
    "import pandas as pd"
   ]
  },
  {
   "cell_type": "markdown",
   "id": "pressed-essay",
   "metadata": {},
   "source": [
    "##### Data Preparation"
   ]
  },
  {
   "cell_type": "code",
   "execution_count": 89,
   "id": "different-russia",
   "metadata": {},
   "outputs": [
    {
     "name": "stdout",
     "output_type": "stream",
     "text": [
      "(3750, 1) (3750, 1)\n"
     ]
    }
   ],
   "source": [
    "# Importing Training Data\n",
    "Xtrain = pd.read_csv('Datasets/Training Data/Linear_X_Train.csv')\n",
    "Ytrain = pd.read_csv('Datasets/Training Data/Linear_Y_Train.csv')\n",
    "print(Xtrain.shape,Ytrain.shape)"
   ]
  },
  {
   "cell_type": "code",
   "execution_count": 90,
   "id": "gross-article",
   "metadata": {},
   "outputs": [
    {
     "name": "stdout",
     "output_type": "stream",
     "text": [
      "(1250, 1)\n"
     ]
    }
   ],
   "source": [
    "# Importing Test Data\n",
    "Xtest = pd.read_csv('Datasets/Test Cases/Linear_X_Test.csv')\n",
    "print(Xtest.shape)"
   ]
  },
  {
   "cell_type": "code",
   "execution_count": 91,
   "id": "coordinate-shaft",
   "metadata": {},
   "outputs": [],
   "source": [
    "# Convert X and Y to Numpy Arrays\n",
    "Xtrain = Xtrain.values\n",
    "Ytrain = Ytrain.values\n",
    "Xtest = Xtest.values"
   ]
  },
  {
   "cell_type": "code",
   "execution_count": 92,
   "id": "twelve-federation",
   "metadata": {},
   "outputs": [],
   "source": [
    "# Normalization/ Standardization\n",
    "Mean = Xtrain.mean()\n",
    "Std = Xtrain.std()\n",
    "Xtrain = (Xtrain - Mean) / Std"
   ]
  },
  {
   "cell_type": "code",
   "execution_count": 93,
   "id": "spread-highway",
   "metadata": {},
   "outputs": [
    {
     "data": {
      "image/png": "[encoded data removed]",
      "text/plain": [
       "<Figure size 432x288 with 1 Axes>"
      ]
     },
     "metadata": {},
     "output_type": "display_data"
    }
   ],
   "source": [
    "# Visualization\n",
    "plt.style.use('dark_background')\n",
    "plt.scatter(Xtrain,Ytrain)\n",
    "plt.xlabel('Hardwork')\n",
    "plt.ylabel('Performance')\n",
    "plt.title(\"Hardwork vs Performance\")\n",
    "plt.show()"
   ]
  },
  {
   "cell_type": "markdown",
   "id": "hungarian-orleans",
   "metadata": {},
   "source": [
    "##### Algorithm"
   ]
  },
  {
   "cell_type": "code",
   "execution_count": 101,
   "id": "acknowledged-samoa",
   "metadata": {},
   "outputs": [],
   "source": [
    "class LinearRegression:\n",
    "    def __init__(self):\n",
    "        self.theta = np.zeros((2,))\n",
    "\n",
    "    def hypothesis(self,x):\n",
    "        yhat = theta[0] + self.theta[1]*x\n",
    "        return yhat\n",
    "    \n",
    "    def error(self,X,Y):\n",
    "        m = X.shape[0]\n",
    "        err = 0\n",
    "        for i in range(m):\n",
    "            y = Y[i]\n",
    "            x = X[i]\n",
    "            yhat = self.hypothesis(x)\n",
    "            err += (y - yhat)**2 \n",
    "        return err/m\n",
    "\n",
    "    def gradient(self,X,Y):\n",
    "        m = X.shape[0]\n",
    "        grad = np.zeros((2,))\n",
    "        for i in range(m):\n",
    "            x = X[i]\n",
    "            y = Y[i]\n",
    "            yhat = self.hypothesis(x)\n",
    "            \n",
    "            grad[0] += (yhat-y)\n",
    "            grad[1] += (yhat-y)*x\n",
    "        return grad/m\n",
    "    \n",
    "    def fit(self,X, Y, learning_rate = 0.1, epochs = 100):\n",
    "        error_list = []\n",
    "        \n",
    "        for i in range(epochs):\n",
    "            \n",
    "            # Compute Gradients\n",
    "            grad = self.gradient(X,Y)\n",
    "            \n",
    "            # Find the error \n",
    "            e = self.error(X,Y)\n",
    "            error_list.append(e)\n",
    "            \n",
    "            # Update the values of coefficient theta\n",
    "            self.theta[0] = self.theta[0] - learning_rate*grad[0]\n",
    "            self.theta[1] = self.theta[1] - learning_rate*grad[1]\n",
    "                        \n",
    "        return self.theta,error_list\n",
    "    \n",
    "    def predict(self,X):\n",
    "        m = X.shape[0]\n",
    "        preds = []\n",
    "        for i in range(m):\n",
    "            x = X[i]\n",
    "            pred = self.hypothesis(x)\n",
    "            preds.append(pred)\n",
    "        return preds\n",
    "    \n",
    "    def score(self,y,yhat):\n",
    "        num = np.sum((y-yhat)**2)\n",
    "        denom = np.sum((y-y.mean())**2)\n",
    "        \n",
    "        score = 1 - num/denom\n",
    "        return score"
   ]
  },
  {
   "cell_type": "code",
   "execution_count": 102,
   "id": "silver-clear",
   "metadata": {},
   "outputs": [],
   "source": [
    "# Creating an Object\n",
    "obj = LinearRegression()"
   ]
  },
  {
   "cell_type": "code",
   "execution_count": 103,
   "id": "stable-hacker",
   "metadata": {},
   "outputs": [
    {
     "name": "stdout",
     "output_type": "stream",
     "text": [
      "[1.81645164e-04 7.99036145e+01]\n"
     ]
    }
   ],
   "source": [
    "# Apply Machine Learning algorithm to fit the training data\n",
    "coeff, error = obj.fit(Xtrain,Ytrain)\n",
    "# Optimal Estimate of the Coefficient\n",
    "print(coeff)"
   ]
  },
  {
   "cell_type": "markdown",
   "id": "certain-broad",
   "metadata": {},
   "source": [
    "##### Plot of Error over time"
   ]
  },
  {
   "cell_type": "code",
   "execution_count": 104,
   "id": "pressing-winning",
   "metadata": {},
   "outputs": [
    {
     "data": {
      "image/png": "[encoded data removed]",
      "text/plain": [
       "<Figure size 432x288 with 1 Axes>"
      ]
     },
     "metadata": {},
     "output_type": "display_data"
    }
   ],
   "source": [
    "plt.plot(error)\n",
    "plt.title('Reduction of error over time')\n",
    "plt.show()"
   ]
  },
  {
   "cell_type": "markdown",
   "id": "lovely-neutral",
   "metadata": {},
   "source": [
    "##### Plotting the Best Fit Line"
   ]
  },
  {
   "cell_type": "code",
   "execution_count": 105,
   "id": "fresh-doubt",
   "metadata": {},
   "outputs": [
    {
     "name": "stdout",
     "output_type": "stream",
     "text": [
      "[array([-149.37069577]), array([-68.75494042]), array([-201.48687035]), array([221.23424289]), array([47.90689732])]\n"
     ]
    }
   ],
   "source": [
    "# Predictions on Test Data\n",
    "predictions = obj.predict(Xtest)\n",
    "print(predictions[:5])"
   ]
  },
  {
   "cell_type": "code",
   "execution_count": 106,
   "id": "academic-chemical",
   "metadata": {},
   "outputs": [
    {
     "data": {
      "image/png": "[encoded data removed]",
      "text/plain": [
       "<Figure size 432x288 with 1 Axes>"
      ]
     },
     "metadata": {},
     "output_type": "display_data"
    }
   ],
   "source": [
    "plt.scatter(Xtrain,Ytrain)\n",
    "plt.plot(Xtest,predictions, color = 'red', label = 'Best Fit Line')\n",
    "plt.legend()\n",
    "plt.show()"
   ]
  },
  {
   "cell_type": "markdown",
   "id": "educational-youth",
   "metadata": {},
   "source": [
    "##### Assessing the Accuracy"
   ]
  },
  {
   "cell_type": "code",
   "execution_count": 107,
   "id": "instant-difference",
   "metadata": {},
   "outputs": [
    {
     "data": {
      "text/plain": [
       "0.9709612226971643"
      ]
     },
     "execution_count": 107,
     "metadata": {},
     "output_type": "execute_result"
    }
   ],
   "source": [
    "# Calculating accuracy\n",
    "prediction = obj.predict(Xtrain)\n",
    "obj.score(Ytrain,prediction)"
   ]
  }
 ],
 "metadata": {
  "kernelspec": {
   "display_name": "Python 3",
   "language": "python",
   "name": "python3"
  },
  "language_info": {
   "codemirror_mode": {
    "name": "ipython",
    "version": 3
   },
   "file_extension": ".py",
   "mimetype": "text/x-python",
   "name": "python",
   "nbconvert_exporter": "python",
   "pygments_lexer": "ipython3",
   "version": "3.7.3"
  }
 },
 "nbformat": 4,
 "nbformat_minor": 5
}
