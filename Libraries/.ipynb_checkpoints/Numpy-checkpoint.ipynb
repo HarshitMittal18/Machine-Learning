{
 "cells": [
  {
   "cell_type": "markdown",
   "id": "processed-recruitment",
   "metadata": {},
   "source": [
    "<h3>NumPy"
   ]
  },
  {
   "cell_type": "markdown",
   "id": "answering-disclosure",
   "metadata": {},
   "source": [
    "<small>NumPy is a library for the Python programming language, adding support for large, multi-dimensional arrays and matrices, along with a large collection of high-level mathematical functions to operate on these arrays"
   ]
  },
  {
   "cell_type": "code",
   "execution_count": 81,
   "id": "institutional-bangladesh",
   "metadata": {},
   "outputs": [],
   "source": [
    "# Importing NumPy Library\n",
    "import numpy as np"
   ]
  },
  {
   "cell_type": "markdown",
   "id": "circular-spanish",
   "metadata": {},
   "source": [
    "##### Numpy Array's"
   ]
  },
  {
   "cell_type": "code",
   "execution_count": 153,
   "id": "secure-honor",
   "metadata": {},
   "outputs": [
    {
     "name": "stdout",
     "output_type": "stream",
     "text": [
      "1-D Array: [1 2 3 4 5]\n"
     ]
    }
   ],
   "source": [
    "# 1-dimensional array\n",
    "a1 = np.array([1,2,3,4,5])\n",
    "print('1-D Array:',a1)"
   ]
  },
  {
   "cell_type": "code",
   "execution_count": 203,
   "id": "advised-somalia",
   "metadata": {},
   "outputs": [
    {
     "name": "stdout",
     "output_type": "stream",
     "text": [
      "Shape: (5,)\n",
      "Dtype: int32\n",
      "Size: 5\n"
     ]
    }
   ],
   "source": [
    "# Shape is a attribute of a numpy array which gives its dimensions as a tuple\n",
    "print('Shape:',a1.shape)\n",
    "# Dtype is a attribute of a numpy array to print the type of values stored in an array\n",
    "print('Dtype:',a1.dtype)\n",
    "# Size is a attribute of a numpy array that finds the number of elements in the array\n",
    "print('Size:',a1.size)"
   ]
  },
  {
   "cell_type": "code",
   "execution_count": 156,
   "id": "funky-assumption",
   "metadata": {},
   "outputs": [
    {
     "name": "stdout",
     "output_type": "stream",
     "text": [
      "2-D Array:\n",
      " [[1]\n",
      " [2]\n",
      " [3]]\n",
      "Shape: (3, 1)\n"
     ]
    }
   ],
   "source": [
    "#1 2-dimensional array\n",
    "a2 = np.array([[1],[2],[3]])\n",
    "print('2-D Array:\\n',a2)\n",
    "print('Shape:',a2.shape)"
   ]
  },
  {
   "cell_type": "code",
   "execution_count": 158,
   "id": "available-frost",
   "metadata": {},
   "outputs": [
    {
     "name": "stdout",
     "output_type": "stream",
     "text": [
      "2-D Array:\n",
      " [[1 2]\n",
      " [3 4]]\n",
      "Shape: (2, 2)\n"
     ]
    }
   ],
   "source": [
    "#2 2-dimensional array\n",
    "a3 = np.array([[1,2],[3,4]])\n",
    "print('2-D Array:\\n',a3)\n",
    "print('Shape:',a3.shape)"
   ]
  },
  {
   "cell_type": "code",
   "execution_count": 162,
   "id": "elect-mexican",
   "metadata": {},
   "outputs": [
    {
     "name": "stdout",
     "output_type": "stream",
     "text": [
      "Array of Zeros:\n",
      " [[0. 0. 0.]\n",
      " [0. 0. 0.]\n",
      " [0. 0. 0.]]\n",
      "Array of Ones:\n",
      " [[1 1 1]\n",
      " [1 1 1]\n",
      " [1 1 1]]\n",
      "Array of Constant:\n",
      " [[5 5 5 5 5]\n",
      " [5 5 5 5 5]\n",
      " [5 5 5 5 5]]\n"
     ]
    }
   ],
   "source": [
    "# Array of zeros. \n",
    "# By default the array is of type float\n",
    "a4 = np.zeros((3,3), dtype = np.float64)\n",
    "print('Array of Zeros:\\n',a4)\n",
    "\n",
    "# Array of ones\n",
    "a5 = np.ones((3,3), dtype = np.int64)\n",
    "print('Array of Ones:\\n',a5)\n",
    "\n",
    "# Array of constant\n",
    "a6 = np.full((3,5),5)"
   ]
  },
  {
   "cell_type": "code",
   "execution_count": 184,
   "id": "connected-flash",
   "metadata": {},
   "outputs": [
    {
     "name": "stdout",
     "output_type": "stream",
     "text": [
      "3-D Array:\n",
      " [[[0.1653542  0.92750858 0.34776586]\n",
      "  [0.7508121  0.72599799 0.88330609]\n",
      "  [0.62367221 0.75094243 0.34889834]]\n",
      "\n",
      " [[0.26992789 0.89588622 0.42809119]\n",
      "  [0.96484005 0.6634415  0.62169572]\n",
      "  [0.11474597 0.94948926 0.44991213]]\n",
      "\n",
      " [[0.57838961 0.4081368  0.23702698]\n",
      "  [0.90337952 0.57367949 0.00287033]\n",
      "  [0.61714491 0.3266449  0.5270581 ]]]\n"
     ]
    }
   ],
   "source": [
    "# Three Dimensional Array - (Channel, Row, Column)\n",
    "d = np.random.random((3,3,3))\n",
    "print('3-D Array:\\n',d)"
   ]
  },
  {
   "cell_type": "code",
   "execution_count": 163,
   "id": "molecular-click",
   "metadata": {},
   "outputs": [
    {
     "name": "stdout",
     "output_type": "stream",
     "text": [
      "Identity Matrix:\n",
      " [[1. 0. 0. 0.]\n",
      " [0. 1. 0. 0.]\n",
      " [0. 0. 1. 0.]\n",
      " [0. 0. 0. 1.]]\n"
     ]
    }
   ],
   "source": [
    "# Its a square matrix\n",
    "a7 = np.eye(4)\n",
    "print('Identity Matrix:\\n',a7)"
   ]
  },
  {
   "cell_type": "code",
   "execution_count": 164,
   "id": "irish-duration",
   "metadata": {},
   "outputs": [
    {
     "name": "stdout",
     "output_type": "stream",
     "text": [
      "Random Matrix:\n",
      " [[0.18626021 0.34556073 0.39676747]\n",
      " [0.53881673 0.41919451 0.6852195 ]\n",
      " [0.20445225 0.87811744 0.02738759]\n",
      " [0.67046751 0.4173048  0.55868983]\n",
      " [0.14038694 0.19810149 0.80074457]]\n"
     ]
    }
   ],
   "source": [
    "# Random Matrix\n",
    "a8 = np.random.random((5,3))\n",
    "print('Random Matrix:\\n',a8)"
   ]
  },
  {
   "cell_type": "markdown",
   "id": "colonial-boxing",
   "metadata": {},
   "source": [
    "#### Slicing "
   ]
  },
  {
   "cell_type": "markdown",
   "id": "intimate-gates",
   "metadata": {},
   "source": [
    "<small>Slicing is used to get a subset of values from the array"
   ]
  },
  {
   "cell_type": "code",
   "execution_count": 165,
   "id": "separated-subscriber",
   "metadata": {},
   "outputs": [
    {
     "name": "stdout",
     "output_type": "stream",
     "text": [
      "[[0.18626021 0.34556073 0.39676747]\n",
      " [0.53881673 0.41919451 0.6852195 ]\n",
      " [0.20445225 0.87811744 0.02738759]\n",
      " [0.67046751 0.4173048  0.55868983]\n",
      " [0.14038694 0.19810149 0.80074457]]\n"
     ]
    }
   ],
   "source": [
    "# 2-D Array \n",
    "print(a8)"
   ]
  },
  {
   "cell_type": "code",
   "execution_count": 171,
   "id": "greek-europe",
   "metadata": {},
   "outputs": [
    {
     "name": "stdout",
     "output_type": "stream",
     "text": [
      "1: [0.39676747 0.6852195  0.02738759 0.55868983 0.80074457]\n",
      "2: [0.19810149 0.80074457]\n"
     ]
    }
   ],
   "source": [
    "# Last column\n",
    "print('1:',a8[:,-1])\n",
    "# Values in last two column of the last row\n",
    "print('2:',a8[-1,1:])"
   ]
  },
  {
   "cell_type": "code",
   "execution_count": 174,
   "id": "civilian-boost",
   "metadata": {},
   "outputs": [
    {
     "name": "stdout",
     "output_type": "stream",
     "text": [
      "3: [[0.14038694 0.19810149 0.80074457]\n",
      " [0.67046751 0.4173048  0.55868983]\n",
      " [0.20445225 0.87811744 0.02738759]\n",
      " [0.53881673 0.41919451 0.6852195 ]\n",
      " [0.18626021 0.34556073 0.39676747]]\n",
      "4: [[0.39676747 0.34556073 0.18626021]\n",
      " [0.6852195  0.41919451 0.53881673]\n",
      " [0.02738759 0.87811744 0.20445225]\n",
      " [0.55868983 0.4173048  0.67046751]\n",
      " [0.80074457 0.19810149 0.14038694]]\n"
     ]
    }
   ],
   "source": [
    "# Reverse rows of a two dimensional array\n",
    "print('3:',a8[::-1])\n",
    "# Reverse columns of a two dimensional array\n",
    "print('4:',a8[:,::-1])"
   ]
  },
  {
   "cell_type": "code",
   "execution_count": 190,
   "id": "median-sheep",
   "metadata": {},
   "outputs": [
    {
     "name": "stdout",
     "output_type": "stream",
     "text": [
      "[[[0.27918368 0.58575927 0.96959575]\n",
      "  [0.56103022 0.01864729 0.80063267]\n",
      "  [0.23297427 0.8071052  0.38786064]]\n",
      "\n",
      " [[0.86354185 0.74712164 0.55624023]\n",
      "  [0.13645523 0.05991769 0.12134346]\n",
      "  [0.04455188 0.10749413 0.22570934]]\n",
      "\n",
      " [[0.71298898 0.55971698 0.01255598]\n",
      "  [0.07197428 0.96727633 0.56810046]\n",
      "  [0.20329323 0.25232574 0.74382585]]]\n"
     ]
    }
   ],
   "source": [
    "# 3-D Array\n",
    "print(d)"
   ]
  },
  {
   "cell_type": "code",
   "execution_count": 193,
   "id": "educational-speaker",
   "metadata": {},
   "outputs": [
    {
     "name": "stdout",
     "output_type": "stream",
     "text": [
      "5: [[[0.71298898 0.55971698 0.01255598]\n",
      "  [0.07197428 0.96727633 0.56810046]\n",
      "  [0.20329323 0.25232574 0.74382585]]\n",
      "\n",
      " [[0.86354185 0.74712164 0.55624023]\n",
      "  [0.13645523 0.05991769 0.12134346]\n",
      "  [0.04455188 0.10749413 0.22570934]]\n",
      "\n",
      " [[0.27918368 0.58575927 0.96959575]\n",
      "  [0.56103022 0.01864729 0.80063267]\n",
      "  [0.23297427 0.8071052  0.38786064]]]\n"
     ]
    }
   ],
   "source": [
    "# Reverse channels of a three dimensional array\n",
    "# First Solution\n",
    "print('5:',d[::-1])"
   ]
  },
  {
   "cell_type": "code",
   "execution_count": 194,
   "id": "romantic-happening",
   "metadata": {},
   "outputs": [
    {
     "name": "stdout",
     "output_type": "stream",
     "text": [
      "6: [[[0.71298898 0.55971698 0.01255598]\n",
      "  [0.07197428 0.96727633 0.56810046]\n",
      "  [0.20329323 0.25232574 0.74382585]]\n",
      "\n",
      " [[0.86354185 0.74712164 0.55624023]\n",
      "  [0.13645523 0.05991769 0.12134346]\n",
      "  [0.04455188 0.10749413 0.22570934]]\n",
      "\n",
      " [[0.27918368 0.58575927 0.96959575]\n",
      "  [0.56103022 0.01864729 0.80063267]\n",
      "  [0.23297427 0.8071052  0.38786064]]]\n"
     ]
    }
   ],
   "source": [
    "# Second Solution\n",
    "print('6:',d[[2,1,0]])"
   ]
  },
  {
   "cell_type": "markdown",
   "id": "mounted-links",
   "metadata": {},
   "source": [
    "#### Mathematical Operations"
   ]
  },
  {
   "cell_type": "markdown",
   "id": "bibliographic-feeling",
   "metadata": {},
   "source": [
    "<small> Element Wise Operations"
   ]
  },
  {
   "cell_type": "code",
   "execution_count": 195,
   "id": "arbitrary-windsor",
   "metadata": {},
   "outputs": [
    {
     "name": "stdout",
     "output_type": "stream",
     "text": [
      "Addition:\n",
      " [[ 6  8]\n",
      " [10 12]]\n"
     ]
    }
   ],
   "source": [
    "# Element-Wise Addition \n",
    "# Note: The shapes of the array's should be same\n",
    "b1 = np.array([[1,2],[3,4]])\n",
    "b2 = np.array([[5,6],[7,8]])\n",
    "print('Addition:\\n',b1+b2)"
   ]
  },
  {
   "cell_type": "code",
   "execution_count": 196,
   "id": "brown-studio",
   "metadata": {},
   "outputs": [
    {
     "name": "stdout",
     "output_type": "stream",
     "text": [
      "Multiplication:\n",
      " [[ 5 12]\n",
      " [21 32]]\n"
     ]
    }
   ],
   "source": [
    "# Element-Wise Multiplication\n",
    "b1 = np.array([[1,2],[3,4]])\n",
    "b2 = np.array([[5,6],[7,8]])\n",
    "print('Multiplication:\\n',b1*b2)"
   ]
  },
  {
   "cell_type": "markdown",
   "id": "therapeutic-repository",
   "metadata": {},
   "source": [
    "<small> Dot Product"
   ]
  },
  {
   "cell_type": "code",
   "execution_count": 61,
   "id": "racial-mainstream",
   "metadata": {},
   "outputs": [
    {
     "name": "stdout",
     "output_type": "stream",
     "text": [
      "[[19 22]\n",
      " [43 50]]\n",
      "[[19 22]\n",
      " [43 50]]\n"
     ]
    }
   ],
   "source": [
    "# Matrix Multiplication or Dot Product\n",
    "print(b1.dot(b2))\n",
    "print(np.dot(b1,b2))"
   ]
  },
  {
   "cell_type": "code",
   "execution_count": 62,
   "id": "imposed-forest",
   "metadata": {},
   "outputs": [
    {
     "name": "stdout",
     "output_type": "stream",
     "text": [
      "70\n"
     ]
    }
   ],
   "source": [
    "# Vector Dot Product: Vectors are linear arrays and dot product of vectors gives a scaler\n",
    "b3 = np.array([1,2,3,4])\n",
    "b4 = np.array([5,6,7,8])\n",
    "print(b3.dot(b4))"
   ]
  },
  {
   "cell_type": "markdown",
   "id": "aggregate-tokyo",
   "metadata": {},
   "source": [
    "<small> Sum Function"
   ]
  },
  {
   "cell_type": "code",
   "execution_count": 200,
   "id": "unique-thinking",
   "metadata": {},
   "outputs": [
    {
     "name": "stdout",
     "output_type": "stream",
     "text": [
      "Array:\n",
      " [[1 2]\n",
      " [3 4]]\n",
      "np.sum: 10\n",
      "Sum(axis = 0): [4 6]\n",
      "Sum(axis = 1): [3 7]\n"
     ]
    }
   ],
   "source": [
    "# np.sum Function\n",
    "print('Array:\\n',b1)\n",
    "# np.sum function prints the sum of all the values\n",
    "print('np.sum:',np.sum(b1))\n",
    "# np.sum function takes an additional parameter called the axis. Axis parameter can take two values. \n",
    "# Axis = 0 gives sum along the column\n",
    "print('Sum(axis = 0):',np.sum(b1,axis = 0))\n",
    "# Axis = 1 gives sum along the row\n",
    "print('Sum(axis = 1):',np.sum(b1,axis = 1))"
   ]
  },
  {
   "cell_type": "code",
   "execution_count": 201,
   "id": "clean-liechtenstein",
   "metadata": {},
   "outputs": [
    {
     "name": "stdout",
     "output_type": "stream",
     "text": [
      "Sum Function: [4 6]\n"
     ]
    }
   ],
   "source": [
    "# Sum Function: Prints the sum along the columns (axis = 0)\n",
    "print('Sum Function:',sum(b1))"
   ]
  },
  {
   "cell_type": "markdown",
   "id": "ultimate-excess",
   "metadata": {},
   "source": [
    "<small> Stacking "
   ]
  },
  {
   "cell_type": "markdown",
   "id": "bizarre-animation",
   "metadata": {},
   "source": [
    "<small>[Stacking](https://www.geeksforgeeks.org/numpy-stack-in-python/) concatenates two array and creates a new array which has 1 more dimension than the input arrays "
   ]
  },
  {
   "cell_type": "code",
   "execution_count": 202,
   "id": "contrary-switch",
   "metadata": {},
   "outputs": [
    {
     "name": "stdout",
     "output_type": "stream",
     "text": [
      "[[1 5]\n",
      " [2 6]\n",
      " [3 7]\n",
      " [4 8]]\n",
      "[[1 2 3 4]\n",
      " [5 6 7 8]]\n"
     ]
    }
   ],
   "source": [
    "# Stacking of Arrays: Concatenates the two arrays\n",
    "a = np.array([1,2,3,4])\n",
    "b = np.array([5,6,7,8])\n",
    "# Stacking horizontally - along the rows\n",
    "print(np.stack((a,b), axis = 1))\n",
    "# Stacking vertically = along the columns\n",
    "print(np.stack((a,b), axis = 0))"
   ]
  },
  {
   "cell_type": "code",
   "execution_count": 218,
   "id": "industrial-incident",
   "metadata": {},
   "outputs": [
    {
     "name": "stdout",
     "output_type": "stream",
     "text": [
      "[[[ 1  2  3  4]\n",
      "  [17 18 19 20]]\n",
      "\n",
      " [[ 5  6  7  8]\n",
      "  [21 22 23 24]]\n",
      "\n",
      " [[ 9 10 11 12]\n",
      "  [25 26 27 28]]\n",
      "\n",
      " [[13 14 15 16]\n",
      "  [29 30 31 32]]]\n"
     ]
    }
   ],
   "source": [
    "# Stacking in case of 2-D Array\n",
    "a1 = np.arange(1,17).reshape(4,4)\n",
    "a2 = np.arange(17,33).reshape(4,4)\n",
    "# Axis = 0 means stacking channel wise\n",
    "# Axis = 1 means stacking row wise\n",
    "# Axis = 2 means stacking column wise\n",
    "print(np.stack((a1,a2),axis = 1))"
   ]
  },
  {
   "cell_type": "markdown",
   "id": "wound-certificate",
   "metadata": {},
   "source": [
    "<small><ol>\n",
    "    <li> [hstack](https://www.geeksforgeeks.org/numpy-hstack-in-python/) is used to stack the sequence of input arrays horizontally (i.e. column wise) to make a single array\n",
    "    <li> vstack is used to stack the sequence of input arrays horizontally (i.e. column wise) to make a single array\n",
    "    <li> [concatenate](https://www.geeksforgeeks.org/numpy-concatenate-function-python/) is used to concatenate the sequence of arrays. It maintains the input shape of the array."
   ]
  },
  {
   "cell_type": "code",
   "execution_count": 221,
   "id": "short-fever",
   "metadata": {},
   "outputs": [
    {
     "name": "stdout",
     "output_type": "stream",
     "text": [
      "[1 2 3 4 5 6 7 8]\n"
     ]
    }
   ],
   "source": [
    "# Horizontal Stack - Maintains the input shape of an array\n",
    "a = np.array([1,2,3,4])\n",
    "b = np.array([5,6,7,8])\n",
    "print(np.hstack((a,b)))"
   ]
  },
  {
   "cell_type": "markdown",
   "id": "integrated-retreat",
   "metadata": {},
   "source": [
    "<small>Reshape"
   ]
  },
  {
   "cell_type": "markdown",
   "id": "parallel-champion",
   "metadata": {},
   "source": [
    "<small> Both the numpy.reshape() and numpy.resize() methods are used to change the size of a NumPy array. The difference between them is that the reshape() does not changes the original array but only returns the changed array, whereas the resize() method returns nothing and directly changes the original array."
   ]
  },
  {
   "cell_type": "code",
   "execution_count": 223,
   "id": "arctic-compilation",
   "metadata": {},
   "outputs": [
    {
     "name": "stdout",
     "output_type": "stream",
     "text": [
      "[[1 2 3 4]\n",
      " [5 6 7 8]]\n",
      "[[1 2]\n",
      " [3 4]\n",
      " [5 6]\n",
      " [7 8]]\n",
      "[1 2 3 4 5 6 7 8]\n"
     ]
    }
   ],
   "source": [
    "# Reshape a Numpy Array: \n",
    "# Below array contains 8 elements. Reshaping will always be done in one of the multiple of 8\n",
    "c = np.stack((a,b), axis = 0)\n",
    "print(c)\n",
    "c = c.reshape(4,2)\n",
    "print(c)\n",
    "c = c.reshape(8,)\n",
    "print(c)"
   ]
  },
  {
   "cell_type": "code",
   "execution_count": 222,
   "id": "polar-marina",
   "metadata": {},
   "outputs": [
    {
     "name": "stdout",
     "output_type": "stream",
     "text": [
      "[[1]\n",
      " [2]\n",
      " [3]\n",
      " [4]\n",
      " [5]\n",
      " [6]\n",
      " [7]\n",
      " [8]]\n"
     ]
    }
   ],
   "source": [
    "# We can specify any one of the dimensions and keep the other dimension as -1. \n",
    "# Python runtime will automatically calulate the other dimension\n",
    "c = c.reshape(8,-1)\n",
    "print(c)"
   ]
  },
  {
   "cell_type": "markdown",
   "id": "broke-marks",
   "metadata": {},
   "source": [
    "<small>Flatten Function"
   ]
  },
  {
   "cell_type": "code",
   "execution_count": 238,
   "id": "connected-twist",
   "metadata": {},
   "outputs": [
    {
     "name": "stdout",
     "output_type": "stream",
     "text": [
      "[[ 1  2  3  4]\n",
      " [ 5  6  7  8]\n",
      " [ 9 10 11 12]\n",
      " [13 14 15 16]]\n",
      "[ 1  2  3  4  5  6  7  8  9 10 11 12 13 14 15 16]\n"
     ]
    }
   ],
   "source": [
    "# The flatten() function is used to get a copy of an given array collapsed into one dimension\n",
    "a1 = np.arange(1,17).reshape(4,4)\n",
    "print(a1)\n",
    "print(a1.flatten())"
   ]
  },
  {
   "cell_type": "markdown",
   "id": "perfect-pipeline",
   "metadata": {},
   "source": [
    "<small> Arange Function"
   ]
  },
  {
   "cell_type": "code",
   "execution_count": 103,
   "id": "sustained-reset",
   "metadata": {},
   "outputs": [
    {
     "name": "stdout",
     "output_type": "stream",
     "text": [
      "[0 1 2 3 4 5 6 7 8 9]\n",
      "[ 5  7  9 11 13 15 17 19]\n"
     ]
    }
   ],
   "source": [
    "# We use arange function to generate an array in a given range \n",
    "d1 = np.arange(10)\n",
    "print(d1)\n",
    "# Takes three parameters - Start, Stop, Step\n",
    "d2 = np.arange(5,21,2)\n",
    "print(d2)"
   ]
  },
  {
   "cell_type": "markdown",
   "id": "liberal-deadline",
   "metadata": {},
   "source": [
    "#### Numpy Random Module"
   ]
  },
  {
   "cell_type": "code",
   "execution_count": 115,
   "id": "collective-taste",
   "metadata": {},
   "outputs": [
    {
     "name": "stdout",
     "output_type": "stream",
     "text": [
      "[0 6 5 1 2 8 7 9 3 4]\n"
     ]
    }
   ],
   "source": [
    "# Shuffling the content of the array - Doesn't return any value\n",
    "np.random.shuffle(a)\n",
    "print(d1)"
   ]
  },
  {
   "cell_type": "code",
   "execution_count": 121,
   "id": "rocky-disclosure",
   "metadata": {},
   "outputs": [
    {
     "name": "stdout",
     "output_type": "stream",
     "text": [
      "[[0.88705417 0.83446373 0.72029377]\n",
      " [0.50455933 0.21142082 0.34314058]]\n",
      "[[ 0.71032391 -1.97635676 -1.38190525]\n",
      " [-0.211991    0.97808418  1.17056259]]\n",
      "[6 7 7]\n",
      "5\n"
     ]
    }
   ],
   "source": [
    "# Rand - returns random values in a given shape\n",
    "print(np.random.rand(2,3))\n",
    "# Randn - returns values from a standard normal distribution\n",
    "print(np.random.randn(2,3))\n",
    "# Randint - returns values in a given range\n",
    "print(np.random.randint(5,10,3))\n",
    "# Choice - to randomly pick an element from an array\n",
    "print(np.random.choice([1,2,3,4,5,6]))"
   ]
  },
  {
   "cell_type": "code",
   "execution_count": 226,
   "id": "japanese-consortium",
   "metadata": {},
   "outputs": [
    {
     "name": "stdout",
     "output_type": "stream",
     "text": [
      "[[4.17022005e-01 7.20324493e-01 1.14374817e-04]\n",
      " [3.02332573e-01 1.46755891e-01 9.23385948e-02]]\n"
     ]
    }
   ],
   "source": [
    "# Seed is used to initialize our random number generator. \n",
    "# We need to set a seed number if we want our random number generator to generate the same value everytime\n",
    "# Seed function is used to store the state of a random machine\n",
    "np.random.seed(1)\n",
    "print(np.random.rand(2,3))"
   ]
  },
  {
   "cell_type": "markdown",
   "id": "breathing-steering",
   "metadata": {},
   "source": [
    "#### Statistical Functions"
   ]
  },
  {
   "cell_type": "code",
   "execution_count": 138,
   "id": "sharing-crawford",
   "metadata": {},
   "outputs": [
    {
     "name": "stdout",
     "output_type": "stream",
     "text": [
      "[[1 2 3]\n",
      " [3 4 5]]\n",
      "[[5 6 7]\n",
      " [7 8 9]]\n",
      "1\n",
      "[1 2 3]\n"
     ]
    }
   ],
   "source": [
    "# Min Function \n",
    "e1 = np.array([[1,2,3],[3,4,5]])\n",
    "print(e1)\n",
    "# Gives the minimum element in the array\n",
    "print(np.min(e1))\n",
    "# Minimum element across axis = 0 \n",
    "print(np.min(e1,axis = 0))"
   ]
  },
  {
   "cell_type": "code",
   "execution_count": 143,
   "id": "responsible-overview",
   "metadata": {},
   "outputs": [
    {
     "name": "stdout",
     "output_type": "stream",
     "text": [
      "[[1 2 3]\n",
      " [3 4 5]]\n",
      "3.0\n",
      "[2. 3. 4.]\n",
      "3.0\n"
     ]
    }
   ],
   "source": [
    "# Mean Function \n",
    "e1 = np.array([[1,2,3],[3,4,5]])\n",
    "print(e1)\n",
    "# Gives the mean of the array\n",
    "print(np.mean(e1))\n",
    "# Mean across axis = 0 \n",
    "print(np.mean(e1,axis = 0))\n",
    "# Mean using sum function\n",
    "print(np.sum(e1)/(e1.shape[0]*e1.shape[1]))"
   ]
  },
  {
   "cell_type": "code",
   "execution_count": 146,
   "id": "viral-truth",
   "metadata": {},
   "outputs": [
    {
     "name": "stdout",
     "output_type": "stream",
     "text": [
      "[[1 2 3]\n",
      " [3 4 5]]\n",
      "3.0\n"
     ]
    }
   ],
   "source": [
    "# Median Function \n",
    "e1 = np.array([[1,2,3],[3,4,5]])\n",
    "print(e1)\n",
    "# Gives the median of the array\n",
    "print(np.median(e1))"
   ]
  },
  {
   "cell_type": "code",
   "execution_count": 227,
   "id": "ethical-cloud",
   "metadata": {},
   "outputs": [
    {
     "name": "stdout",
     "output_type": "stream",
     "text": [
      "3.6666666666666665\n"
     ]
    }
   ],
   "source": [
    "# Average Function - Average is Weighted as compared to mean function \n",
    "w = np.array([1,2,3,4,5])\n",
    "weights = [1,2,3,4,5]\n",
    "print(np.average(w,weights = weights))"
   ]
  },
  {
   "cell_type": "code",
   "execution_count": 235,
   "id": "sunset-blend",
   "metadata": {},
   "outputs": [
    {
     "name": "stdout",
     "output_type": "stream",
     "text": [
      "1.4142135623730951\n",
      "1.4142135623730951\n"
     ]
    }
   ],
   "source": [
    "# Standard Deviation\n",
    "print(np.std(w))\n",
    "# Standard Deviation without using function\n",
    "x = np.mean(w)\n",
    "std = np.sqrt(np.mean(abs(w-x)**2))\n",
    "print(std)"
   ]
  },
  {
   "cell_type": "code",
   "execution_count": null,
   "id": "alert-correspondence",
   "metadata": {},
   "outputs": [],
   "source": []
  }
 ],
 "metadata": {
  "kernelspec": {
   "display_name": "Python 3",
   "language": "python",
   "name": "python3"
  },
  "language_info": {
   "codemirror_mode": {
    "name": "ipython",
    "version": 3
   },
   "file_extension": ".py",
   "mimetype": "text/x-python",
   "name": "python",
   "nbconvert_exporter": "python",
   "pygments_lexer": "ipython3",
   "version": "3.7.3"
  }
 },
 "nbformat": 4,
 "nbformat_minor": 5
}
