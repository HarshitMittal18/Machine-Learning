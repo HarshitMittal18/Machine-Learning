{
 "cells": [
  {
   "cell_type": "markdown",
   "id": "processed-recruitment",
   "metadata": {},
   "source": [
    "<h3>NumPy"
   ]
  },
  {
   "cell_type": "markdown",
   "id": "answering-disclosure",
   "metadata": {},
   "source": [
    "<small>NumPy is a library for the Python programming language, adding support for large, multi-dimensional arrays and matrices, along with a large collection of high-level mathematical functions to operate on these arrays"
   ]
  },
  {
   "cell_type": "code",
   "execution_count": 2,
   "id": "institutional-bangladesh",
   "metadata": {},
   "outputs": [],
   "source": [
    "# Importing NumPy Library\n",
    "import numpy as np"
   ]
  },
  {
   "cell_type": "markdown",
   "id": "circular-spanish",
   "metadata": {},
   "source": [
    "#### Numpy Array's"
   ]
  },
  {
   "cell_type": "markdown",
   "id": "polish-catholic",
   "metadata": {},
   "source": [
    "1-Dimensional Array"
   ]
  },
  {
   "cell_type": "code",
   "execution_count": 22,
   "id": "secure-honor",
   "metadata": {},
   "outputs": [
    {
     "name": "stdout",
     "output_type": "stream",
     "text": [
      "1-D Array: [1 2 3 4 5]\n"
     ]
    }
   ],
   "source": [
    "# 1-dimensional array\n",
    "a1 = np.array([1,2,3,4,5])\n",
    "print('1-D Array:',a1)"
   ]
  },
  {
   "cell_type": "markdown",
   "id": "diagnostic-trust",
   "metadata": {},
   "source": [
    "Array Attributes"
   ]
  },
  {
   "cell_type": "markdown",
   "id": "killing-clarity",
   "metadata": {},
   "source": [
    "<small>Shape is a attribute of a numpy array which gives its dimensions as a tuple"
   ]
  },
  {
   "cell_type": "code",
   "execution_count": 23,
   "id": "advised-somalia",
   "metadata": {},
   "outputs": [
    {
     "name": "stdout",
     "output_type": "stream",
     "text": [
      "Shape: (5,)\n"
     ]
    }
   ],
   "source": [
    "print('Shape:',a1.shape)"
   ]
  },
  {
   "cell_type": "markdown",
   "id": "assigned-dodge",
   "metadata": {},
   "source": [
    "<small>Dtype is a attribute of a numpy array to print the type of values stored in an array"
   ]
  },
  {
   "cell_type": "code",
   "execution_count": 24,
   "id": "eligible-convenience",
   "metadata": {},
   "outputs": [
    {
     "name": "stdout",
     "output_type": "stream",
     "text": [
      "Dtype: int32\n"
     ]
    }
   ],
   "source": [
    "print('Dtype:',a1.dtype)"
   ]
  },
  {
   "cell_type": "markdown",
   "id": "wicked-montreal",
   "metadata": {},
   "source": [
    "<small>Size is a attribute of a numpy array that finds the number of elements in the array"
   ]
  },
  {
   "cell_type": "code",
   "execution_count": 25,
   "id": "skilled-above",
   "metadata": {},
   "outputs": [
    {
     "name": "stdout",
     "output_type": "stream",
     "text": [
      "Size: 5\n"
     ]
    }
   ],
   "source": [
    "print('Size:',a1.size)"
   ]
  },
  {
   "cell_type": "markdown",
   "id": "whole-scientist",
   "metadata": {},
   "source": [
    "2-Dimensional Array"
   ]
  },
  {
   "cell_type": "code",
   "execution_count": 26,
   "id": "funky-assumption",
   "metadata": {},
   "outputs": [
    {
     "name": "stdout",
     "output_type": "stream",
     "text": [
      "2-D Array:\n",
      " [[1]\n",
      " [2]\n",
      " [3]]\n",
      "Shape: (3, 1)\n"
     ]
    }
   ],
   "source": [
    "#1 2-dimensional array\n",
    "a2 = np.array([[1],[2],[3]])\n",
    "print('2-D Array:\\n',a2)\n",
    "print('Shape:',a2.shape)"
   ]
  },
  {
   "cell_type": "code",
   "execution_count": 27,
   "id": "available-frost",
   "metadata": {},
   "outputs": [
    {
     "name": "stdout",
     "output_type": "stream",
     "text": [
      "2-D Array:\n",
      " [[1 2]\n",
      " [3 4]]\n",
      "Shape: (2, 2)\n"
     ]
    }
   ],
   "source": [
    "#2 2-dimensional array\n",
    "a3 = np.array([[1,2],[3,4]])\n",
    "print('2-D Array:\\n',a3)\n",
    "print('Shape:',a3.shape)"
   ]
  },
  {
   "cell_type": "markdown",
   "id": "retained-station",
   "metadata": {},
   "source": [
    "Array of Zeros"
   ]
  },
  {
   "cell_type": "code",
   "execution_count": 28,
   "id": "elect-mexican",
   "metadata": {},
   "outputs": [
    {
     "name": "stdout",
     "output_type": "stream",
     "text": [
      "Array of Zeros:\n",
      " [[0. 0. 0.]\n",
      " [0. 0. 0.]\n",
      " [0. 0. 0.]]\n"
     ]
    }
   ],
   "source": [
    "a4 = np.zeros((3,3)) # By default the array is of type float\n",
    "print('Array of Zeros:\\n',a4)"
   ]
  },
  {
   "cell_type": "markdown",
   "id": "alleged-cathedral",
   "metadata": {},
   "source": [
    "Array of Ones"
   ]
  },
  {
   "cell_type": "code",
   "execution_count": 29,
   "id": "temporal-fiction",
   "metadata": {},
   "outputs": [
    {
     "name": "stdout",
     "output_type": "stream",
     "text": [
      "Array of Ones:\n",
      " [[1 1 1]\n",
      " [1 1 1]\n",
      " [1 1 1]]\n"
     ]
    }
   ],
   "source": [
    "# Array of ones\n",
    "a5 = np.ones((3,3), dtype = np.int64)\n",
    "print('Array of Ones:\\n',a5)"
   ]
  },
  {
   "cell_type": "markdown",
   "id": "partial-toddler",
   "metadata": {},
   "source": [
    "Array of Constants"
   ]
  },
  {
   "cell_type": "code",
   "execution_count": 30,
   "id": "printable-memorial",
   "metadata": {},
   "outputs": [
    {
     "name": "stdout",
     "output_type": "stream",
     "text": [
      "Array of Constant:\n",
      " [[5 5 5 5 5]\n",
      " [5 5 5 5 5]\n",
      " [5 5 5 5 5]]\n"
     ]
    }
   ],
   "source": [
    "# Array of constant\n",
    "a6 = np.full((3,5),5)\n",
    "print('Array of Constant:\\n',a6)"
   ]
  },
  {
   "cell_type": "markdown",
   "id": "pregnant-scholar",
   "metadata": {},
   "source": [
    "3-Dimensional Array"
   ]
  },
  {
   "cell_type": "markdown",
   "id": "fossil-writer",
   "metadata": {},
   "source": [
    "<small>The three dimensions are (Channel, Row, Columns)"
   ]
  },
  {
   "cell_type": "code",
   "execution_count": 31,
   "id": "connected-flash",
   "metadata": {},
   "outputs": [
    {
     "name": "stdout",
     "output_type": "stream",
     "text": [
      "3-D Array:\n",
      " [[[0.17079832 0.49494757 0.33598245]\n",
      "  [0.23653356 0.44539679 0.70892805]\n",
      "  [0.43774556 0.91267074 0.63023296]]\n",
      "\n",
      " [[0.49870664 0.33642378 0.76898853]\n",
      "  [0.27658176 0.2291422  0.37975511]\n",
      "  [0.85488406 0.61399018 0.71642766]]\n",
      "\n",
      " [[0.49582122 0.58630086 0.54020879]\n",
      "  [0.66627811 0.151255   0.5197314 ]\n",
      "  [0.98866813 0.96090084 0.19208467]]]\n"
     ]
    }
   ],
   "source": [
    "d = np.random.random((3,3,3))\n",
    "print('3-D Array:\\n',d)"
   ]
  },
  {
   "cell_type": "markdown",
   "id": "recent-quarter",
   "metadata": {},
   "source": [
    "Identity Matrix"
   ]
  },
  {
   "cell_type": "code",
   "execution_count": 32,
   "id": "molecular-click",
   "metadata": {},
   "outputs": [
    {
     "name": "stdout",
     "output_type": "stream",
     "text": [
      "Identity Matrix:\n",
      " [[1. 0. 0. 0.]\n",
      " [0. 1. 0. 0.]\n",
      " [0. 0. 1. 0.]\n",
      " [0. 0. 0. 1.]]\n"
     ]
    }
   ],
   "source": [
    "a7 = np.eye(4) # Its a square matrix\n",
    "print('Identity Matrix:\\n',a7)"
   ]
  },
  {
   "cell_type": "markdown",
   "id": "french-tiffany",
   "metadata": {},
   "source": [
    "Random Matrix"
   ]
  },
  {
   "cell_type": "code",
   "execution_count": 33,
   "id": "irish-duration",
   "metadata": {},
   "outputs": [
    {
     "name": "stdout",
     "output_type": "stream",
     "text": [
      "Random Matrix:\n",
      " [[0.23144955 0.20426332 0.38728017]\n",
      " [0.60000343 0.52795126 0.23496432]\n",
      " [0.26808112 0.90437022 0.2678002 ]\n",
      " [0.69474919 0.7001037  0.93408752]\n",
      " [0.67605654 0.87147098 0.45973145]]\n"
     ]
    }
   ],
   "source": [
    "# Random Matrix\n",
    "a8 = np.random.random((5,3))\n",
    "print('Random Matrix:\\n',a8)"
   ]
  },
  {
   "cell_type": "markdown",
   "id": "colonial-boxing",
   "metadata": {},
   "source": [
    "#### Slicing "
   ]
  },
  {
   "cell_type": "markdown",
   "id": "intimate-gates",
   "metadata": {},
   "source": [
    "<small>Slicing is used to get a subset of values from the array"
   ]
  },
  {
   "cell_type": "code",
   "execution_count": 34,
   "id": "separated-subscriber",
   "metadata": {},
   "outputs": [
    {
     "name": "stdout",
     "output_type": "stream",
     "text": [
      "[[0.23144955 0.20426332 0.38728017]\n",
      " [0.60000343 0.52795126 0.23496432]\n",
      " [0.26808112 0.90437022 0.2678002 ]\n",
      " [0.69474919 0.7001037  0.93408752]\n",
      " [0.67605654 0.87147098 0.45973145]]\n"
     ]
    }
   ],
   "source": [
    "# 2-D Array \n",
    "print(a8)"
   ]
  },
  {
   "cell_type": "code",
   "execution_count": 35,
   "id": "greek-europe",
   "metadata": {},
   "outputs": [
    {
     "name": "stdout",
     "output_type": "stream",
     "text": [
      "1: [0.38728017 0.23496432 0.2678002  0.93408752 0.45973145]\n",
      "2: [0.87147098 0.45973145]\n"
     ]
    }
   ],
   "source": [
    "# Logic: To print the last column\n",
    "print('1:',a8[:,-1])\n",
    "# Logic: To print the values in last two columns of the last row\n",
    "print('2:',a8[-1,1:])"
   ]
  },
  {
   "cell_type": "code",
   "execution_count": 36,
   "id": "civilian-boost",
   "metadata": {},
   "outputs": [
    {
     "name": "stdout",
     "output_type": "stream",
     "text": [
      "3: [[0.67605654 0.87147098 0.45973145]\n",
      " [0.69474919 0.7001037  0.93408752]\n",
      " [0.26808112 0.90437022 0.2678002 ]\n",
      " [0.60000343 0.52795126 0.23496432]\n",
      " [0.23144955 0.20426332 0.38728017]]\n",
      "4: [[0.38728017 0.20426332 0.23144955]\n",
      " [0.23496432 0.52795126 0.60000343]\n",
      " [0.2678002  0.90437022 0.26808112]\n",
      " [0.93408752 0.7001037  0.69474919]\n",
      " [0.45973145 0.87147098 0.67605654]]\n"
     ]
    }
   ],
   "source": [
    "# Logic: Reverse rows of a two dimensional array\n",
    "print('3:',a8[::-1])\n",
    "# Logic: Reverse columns of a two dimensional array\n",
    "print('4:',a8[:,::-1])"
   ]
  },
  {
   "cell_type": "code",
   "execution_count": 37,
   "id": "median-sheep",
   "metadata": {},
   "outputs": [
    {
     "name": "stdout",
     "output_type": "stream",
     "text": [
      "[[[0.17079832 0.49494757 0.33598245]\n",
      "  [0.23653356 0.44539679 0.70892805]\n",
      "  [0.43774556 0.91267074 0.63023296]]\n",
      "\n",
      " [[0.49870664 0.33642378 0.76898853]\n",
      "  [0.27658176 0.2291422  0.37975511]\n",
      "  [0.85488406 0.61399018 0.71642766]]\n",
      "\n",
      " [[0.49582122 0.58630086 0.54020879]\n",
      "  [0.66627811 0.151255   0.5197314 ]\n",
      "  [0.98866813 0.96090084 0.19208467]]]\n"
     ]
    }
   ],
   "source": [
    "# 3-D Array\n",
    "print(d)"
   ]
  },
  {
   "cell_type": "code",
   "execution_count": 38,
   "id": "educational-speaker",
   "metadata": {},
   "outputs": [
    {
     "name": "stdout",
     "output_type": "stream",
     "text": [
      "5: [[[0.49582122 0.58630086 0.54020879]\n",
      "  [0.66627811 0.151255   0.5197314 ]\n",
      "  [0.98866813 0.96090084 0.19208467]]\n",
      "\n",
      " [[0.49870664 0.33642378 0.76898853]\n",
      "  [0.27658176 0.2291422  0.37975511]\n",
      "  [0.85488406 0.61399018 0.71642766]]\n",
      "\n",
      " [[0.17079832 0.49494757 0.33598245]\n",
      "  [0.23653356 0.44539679 0.70892805]\n",
      "  [0.43774556 0.91267074 0.63023296]]]\n"
     ]
    }
   ],
   "source": [
    "# Logic: Reverse channels of a three dimensional array\n",
    "# First Solution\n",
    "print('5:',d[::-1])"
   ]
  },
  {
   "cell_type": "code",
   "execution_count": 39,
   "id": "romantic-happening",
   "metadata": {},
   "outputs": [
    {
     "name": "stdout",
     "output_type": "stream",
     "text": [
      "6: [[[0.49582122 0.58630086 0.54020879]\n",
      "  [0.66627811 0.151255   0.5197314 ]\n",
      "  [0.98866813 0.96090084 0.19208467]]\n",
      "\n",
      " [[0.49870664 0.33642378 0.76898853]\n",
      "  [0.27658176 0.2291422  0.37975511]\n",
      "  [0.85488406 0.61399018 0.71642766]]\n",
      "\n",
      " [[0.17079832 0.49494757 0.33598245]\n",
      "  [0.23653356 0.44539679 0.70892805]\n",
      "  [0.43774556 0.91267074 0.63023296]]]\n"
     ]
    }
   ],
   "source": [
    "# Second Solution\n",
    "print('6:',d[[2,1,0],:,:])"
   ]
  },
  {
   "cell_type": "markdown",
   "id": "mounted-links",
   "metadata": {},
   "source": [
    "#### Mathematical Operations"
   ]
  },
  {
   "cell_type": "markdown",
   "id": "bibliographic-feeling",
   "metadata": {},
   "source": [
    "Element Wise Operations"
   ]
  },
  {
   "cell_type": "code",
   "execution_count": 40,
   "id": "arbitrary-windsor",
   "metadata": {},
   "outputs": [
    {
     "name": "stdout",
     "output_type": "stream",
     "text": [
      "Addition:\n",
      " [[ 6  8]\n",
      " [10 12]]\n"
     ]
    }
   ],
   "source": [
    "# Element-Wise Addition \n",
    "# Note: The shapes of the array's should be same\n",
    "b1 = np.array([[1,2],[3,4]])\n",
    "b2 = np.array([[5,6],[7,8]])\n",
    "print('Addition:\\n',b1+b2)"
   ]
  },
  {
   "cell_type": "code",
   "execution_count": 41,
   "id": "brown-studio",
   "metadata": {},
   "outputs": [
    {
     "name": "stdout",
     "output_type": "stream",
     "text": [
      "Multiplication:\n",
      " [[ 5 12]\n",
      " [21 32]]\n"
     ]
    }
   ],
   "source": [
    "# Element-Wise Multiplication\n",
    "b1 = np.array([[1,2],[3,4]])\n",
    "b2 = np.array([[5,6],[7,8]])\n",
    "print('Multiplication:\\n',b1*b2)"
   ]
  },
  {
   "cell_type": "markdown",
   "id": "therapeutic-repository",
   "metadata": {},
   "source": [
    "Matrix Dot Product"
   ]
  },
  {
   "cell_type": "code",
   "execution_count": 42,
   "id": "racial-mainstream",
   "metadata": {},
   "outputs": [
    {
     "name": "stdout",
     "output_type": "stream",
     "text": [
      "[[19 22]\n",
      " [43 50]]\n",
      "[[19 22]\n",
      " [43 50]]\n"
     ]
    }
   ],
   "source": [
    "# Matrix Multiplication or Dot Product\n",
    "print(b1.dot(b2))\n",
    "print(np.dot(b1,b2))"
   ]
  },
  {
   "cell_type": "markdown",
   "id": "warming-pixel",
   "metadata": {},
   "source": [
    "Vector Dot Product"
   ]
  },
  {
   "cell_type": "code",
   "execution_count": 43,
   "id": "imposed-forest",
   "metadata": {},
   "outputs": [
    {
     "name": "stdout",
     "output_type": "stream",
     "text": [
      "70\n"
     ]
    }
   ],
   "source": [
    "# Vectors are linear arrays and dot product of vectors gives a scaler\n",
    "b3 = np.array([1,2,3,4])\n",
    "b4 = np.array([5,6,7,8])\n",
    "print(b3.dot(b4))"
   ]
  },
  {
   "cell_type": "markdown",
   "id": "aggregate-tokyo",
   "metadata": {},
   "source": [
    "np.sum Function"
   ]
  },
  {
   "cell_type": "code",
   "execution_count": 44,
   "id": "unique-thinking",
   "metadata": {},
   "outputs": [
    {
     "name": "stdout",
     "output_type": "stream",
     "text": [
      "Array:\n",
      " [[1 2]\n",
      " [3 4]]\n",
      "np.sum: 10\n"
     ]
    }
   ],
   "source": [
    "# np.sum Function\n",
    "print('Array:\\n',b1)\n",
    "# np.sum function prints the sum of all the values\n",
    "print('np.sum:',np.sum(b1))"
   ]
  },
  {
   "cell_type": "code",
   "execution_count": 45,
   "id": "altered-interval",
   "metadata": {},
   "outputs": [
    {
     "name": "stdout",
     "output_type": "stream",
     "text": [
      "Sum(axis = 0): [4 6]\n",
      "Sum(axis = 1): [3 7]\n"
     ]
    }
   ],
   "source": [
    "# np.sum function takes an additional parameter called the axis. Axis parameter can take two values. \n",
    "# Axis = 0 gives sum along the column\n",
    "print('Sum(axis = 0):',np.sum(b1,axis = 0))\n",
    "# Axis = 1 gives sum along the row\n",
    "print('Sum(axis = 1):',np.sum(b1,axis = 1))"
   ]
  },
  {
   "cell_type": "markdown",
   "id": "caroline-growing",
   "metadata": {},
   "source": [
    "Sum Function"
   ]
  },
  {
   "cell_type": "code",
   "execution_count": 46,
   "id": "clean-liechtenstein",
   "metadata": {},
   "outputs": [
    {
     "name": "stdout",
     "output_type": "stream",
     "text": [
      "Sum Function: [4 6]\n"
     ]
    }
   ],
   "source": [
    "# Sum Function: Prints the sum along the columns (axis = 0)\n",
    "print('Sum Function:',sum(b1))"
   ]
  },
  {
   "cell_type": "markdown",
   "id": "ultimate-excess",
   "metadata": {},
   "source": [
    "#### Stacking "
   ]
  },
  {
   "cell_type": "markdown",
   "id": "bizarre-animation",
   "metadata": {},
   "source": [
    "<small>[Stacking](https://www.geeksforgeeks.org/numpy-stack-in-python/) concatenates two arrays and creates a new array which has 1 more dimension than the input arrays "
   ]
  },
  {
   "cell_type": "code",
   "execution_count": 47,
   "id": "contrary-switch",
   "metadata": {},
   "outputs": [
    {
     "name": "stdout",
     "output_type": "stream",
     "text": [
      "[[1 5]\n",
      " [2 6]\n",
      " [3 7]\n",
      " [4 8]]\n",
      "[[1 2 3 4]\n",
      " [5 6 7 8]]\n"
     ]
    }
   ],
   "source": [
    "# Stacking 1-D Array: Outputs a two dimensional array when input is one dimensional\n",
    "a = np.array([1,2,3,4])\n",
    "b = np.array([5,6,7,8])\n",
    "# Stacking horizontally - along the rows\n",
    "print(np.stack((a,b), axis = 1))\n",
    "# Stacking vertically = along the columns\n",
    "print(np.stack((a,b), axis = 0))"
   ]
  },
  {
   "cell_type": "code",
   "execution_count": 63,
   "id": "industrial-incident",
   "metadata": {},
   "outputs": [
    {
     "name": "stdout",
     "output_type": "stream",
     "text": [
      "Array1:\n",
      " [[ 1  2  3  4]\n",
      " [ 5  6  7  8]\n",
      " [ 9 10 11 12]\n",
      " [13 14 15 16]]\n",
      "Array2:\n",
      " [[17 18 19 20]\n",
      " [21 22 23 24]\n",
      " [25 26 27 28]\n",
      " [29 30 31 32]]\n",
      "\n",
      " [[[ 1  2  3  4]\n",
      "  [17 18 19 20]]\n",
      "\n",
      " [[ 5  6  7  8]\n",
      "  [21 22 23 24]]\n",
      "\n",
      " [[ 9 10 11 12]\n",
      "  [25 26 27 28]]\n",
      "\n",
      " [[13 14 15 16]\n",
      "  [29 30 31 32]]]\n"
     ]
    }
   ],
   "source": [
    "#  Stacking 2-D Array: Outputs a three dimensional array when input is two dimensional\n",
    "a1 = np.arange(1,17).reshape(4,4)\n",
    "a2 = np.arange(17,33).reshape(4,4)\n",
    "print('Array1:\\n',a1)\n",
    "print('Array2:\\n',a2)\n",
    "# Axis = 0 means stacking channel wise (2,4,4)\n",
    "# Axis = 1 means stacking row wise (4,2,4)\n",
    "# Axis = 2 means stacking column wise (4,4,2)\n",
    "print('\\n',np.stack((a1,a2),axis = 1))"
   ]
  },
  {
   "cell_type": "markdown",
   "id": "apart-walnut",
   "metadata": {},
   "source": [
    "Hstack, Vstack and Concatenate"
   ]
  },
  {
   "cell_type": "markdown",
   "id": "wound-certificate",
   "metadata": {},
   "source": [
    "<small><ol>\n",
    "    <li> [hstack](https://www.geeksforgeeks.org/numpy-hstack-in-python/) is used to stack the sequence of input arrays horizontally (i.e. column wise) to make a single array. Hstack will not increase the dimension and will maintain the input shape of an array\n",
    "    <li> [vstack](https://www.geeksforgeeks.org/numpy-vstack-in-python/) is used to stack the sequence of input arrays horizontally (i.e. column wise) to make a single array, Vstack will not increase the dimension and will maintain the input shape of an array\n",
    "    <li> [concatenate](https://www.geeksforgeeks.org/numpy-concatenate-function-python/) is used to concatenate the sequence of arrays. It maintains the input shape of the array."
   ]
  },
  {
   "cell_type": "code",
   "execution_count": 49,
   "id": "short-fever",
   "metadata": {},
   "outputs": [
    {
     "name": "stdout",
     "output_type": "stream",
     "text": [
      "[1 2 3 4 5 6 7 8]\n"
     ]
    }
   ],
   "source": [
    "# Horizontal Stack \n",
    "a = np.array([1,2,3,4])\n",
    "b = np.array([5,6,7,8])\n",
    "print(np.hstack((a,b)))"
   ]
  },
  {
   "cell_type": "markdown",
   "id": "integrated-retreat",
   "metadata": {},
   "source": [
    "#### Reshape"
   ]
  },
  {
   "cell_type": "markdown",
   "id": "parallel-champion",
   "metadata": {},
   "source": [
    "<b> <small>Difference between Reshape and Resize </b>\n",
    " <br>\n",
    "<small> Both the numpy.reshape() and numpy.resize() methods are used to change the size of a NumPy array. The difference between them is that the reshape() does not changes the original array but only returns the changed array, whereas the resize() method returns nothing and directly changes the original array."
   ]
  },
  {
   "cell_type": "code",
   "execution_count": 50,
   "id": "arctic-compilation",
   "metadata": {},
   "outputs": [
    {
     "name": "stdout",
     "output_type": "stream",
     "text": [
      "[[1 2 3 4]\n",
      " [5 6 7 8]]\n",
      "[[1 2]\n",
      " [3 4]\n",
      " [5 6]\n",
      " [7 8]]\n",
      "[1 2 3 4 5 6 7 8]\n"
     ]
    }
   ],
   "source": [
    "# Reshape a Numpy Array: \n",
    "# Below array contains 8 elements. Reshaping will always be done in one of the multiple of 8\n",
    "c = np.stack((a,b), axis = 0)\n",
    "print(c)\n",
    "# Scenario-1\n",
    "c = c.reshape(4,2) # 4x2 = 8\n",
    "print(c)\n",
    "# Scenario-2\n",
    "c = c.reshape(8,) # 8x1 = 8\n",
    "print(c)"
   ]
  },
  {
   "cell_type": "code",
   "execution_count": 51,
   "id": "polar-marina",
   "metadata": {},
   "outputs": [
    {
     "name": "stdout",
     "output_type": "stream",
     "text": [
      "[[1]\n",
      " [2]\n",
      " [3]\n",
      " [4]\n",
      " [5]\n",
      " [6]\n",
      " [7]\n",
      " [8]]\n"
     ]
    }
   ],
   "source": [
    "# Scenario-3\n",
    "# We can specify any one of the dimensions and keep the other dimension as -1. Python runtime will automatically calulate the other dimension\n",
    "c = c.reshape(8,-1)\n",
    "print(c)"
   ]
  },
  {
   "cell_type": "markdown",
   "id": "broke-marks",
   "metadata": {},
   "source": [
    "#### Flatten Function"
   ]
  },
  {
   "cell_type": "markdown",
   "id": "crude-greensboro",
   "metadata": {},
   "source": [
    "The flatten() function is used to get a copy of an given array collapsed into one dimension"
   ]
  },
  {
   "cell_type": "code",
   "execution_count": 52,
   "id": "connected-twist",
   "metadata": {},
   "outputs": [
    {
     "name": "stdout",
     "output_type": "stream",
     "text": [
      "[[ 1  2  3  4]\n",
      " [ 5  6  7  8]\n",
      " [ 9 10 11 12]\n",
      " [13 14 15 16]]\n",
      "[ 1  2  3  4  5  6  7  8  9 10 11 12 13 14 15 16]\n"
     ]
    }
   ],
   "source": [
    "a1 = np.arange(1,17).reshape(4,4)\n",
    "print(a1)\n",
    "print(a1.flatten())"
   ]
  },
  {
   "cell_type": "markdown",
   "id": "perfect-pipeline",
   "metadata": {},
   "source": [
    "#### Arange Function"
   ]
  },
  {
   "cell_type": "markdown",
   "id": "thermal-nelson",
   "metadata": {},
   "source": [
    "We use arange function to generate an array in a given range "
   ]
  },
  {
   "cell_type": "code",
   "execution_count": 53,
   "id": "sustained-reset",
   "metadata": {},
   "outputs": [
    {
     "name": "stdout",
     "output_type": "stream",
     "text": [
      "[0 1 2 3 4 5 6 7 8 9]\n",
      "[ 5  7  9 11 13 15 17 19]\n"
     ]
    }
   ],
   "source": [
    "d1 = np.arange(10)\n",
    "print(d1)\n",
    "# Takes three parameters - Start, Stop, Step\n",
    "d2 = np.arange(5,21,2)\n",
    "print(d2)"
   ]
  },
  {
   "cell_type": "markdown",
   "id": "liberal-deadline",
   "metadata": {},
   "source": [
    "#### Numpy Random Module"
   ]
  },
  {
   "cell_type": "markdown",
   "id": "limited-antarctica",
   "metadata": {},
   "source": [
    "Shuffle Function"
   ]
  },
  {
   "cell_type": "markdown",
   "id": "danish-ranking",
   "metadata": {},
   "source": [
    " <small>Used to Shuffle the content of an array - Doesn't return any value"
   ]
  },
  {
   "cell_type": "code",
   "execution_count": 54,
   "id": "collective-taste",
   "metadata": {},
   "outputs": [
    {
     "name": "stdout",
     "output_type": "stream",
     "text": [
      "[0 1 2 3 4 5 6 7 8 9]\n"
     ]
    }
   ],
   "source": [
    "np.random.shuffle(a)\n",
    "print(d1)"
   ]
  },
  {
   "cell_type": "markdown",
   "id": "disabled-bennett",
   "metadata": {},
   "source": [
    "Rand, Randn, Randint"
   ]
  },
  {
   "cell_type": "code",
   "execution_count": 65,
   "id": "rocky-disclosure",
   "metadata": {},
   "outputs": [
    {
     "name": "stdout",
     "output_type": "stream",
     "text": [
      "[[0.18626021 0.34556073 0.39676747]\n",
      " [0.53881673 0.41919451 0.6852195 ]]\n",
      "[[ 0.3190391  -0.24937038  1.46210794]\n",
      " [-2.06014071 -0.3224172  -0.38405435]]\n",
      "[6 6 6]\n"
     ]
    }
   ],
   "source": [
    "# Rand - returns random values in a given shape\n",
    "print(np.random.rand(2,3))\n",
    "# Randn - returns random values from a standard normal distribution\n",
    "print(np.random.randn(2,3))\n",
    "# Randint - returns values in a given range\n",
    "print(np.random.randint(5,10,3))"
   ]
  },
  {
   "cell_type": "markdown",
   "id": "satisfactory-nightlife",
   "metadata": {},
   "source": [
    "Choice Function"
   ]
  },
  {
   "cell_type": "code",
   "execution_count": 66,
   "id": "nominated-purple",
   "metadata": {},
   "outputs": [
    {
     "name": "stdout",
     "output_type": "stream",
     "text": [
      "2\n"
     ]
    }
   ],
   "source": [
    "# Choice - to randomly pick an element from an array\n",
    "print(np.random.choice([1,2,3,4,5,6]))"
   ]
  },
  {
   "cell_type": "markdown",
   "id": "fatal-layer",
   "metadata": {},
   "source": [
    "Seed Function"
   ]
  },
  {
   "cell_type": "markdown",
   "id": "basic-genesis",
   "metadata": {},
   "source": [
    "<small><ul>\n",
    "    <li>Seed is used to initialize our random number generator. \n",
    "    <li>We need to set a seed number if we want our random number generator to generate the same value everytime\n",
    "    <li>Seed function is used to store the state of a random machine"
   ]
  },
  {
   "cell_type": "code",
   "execution_count": 56,
   "id": "japanese-consortium",
   "metadata": {},
   "outputs": [
    {
     "name": "stdout",
     "output_type": "stream",
     "text": [
      "[[4.17022005e-01 7.20324493e-01 1.14374817e-04]\n",
      " [3.02332573e-01 1.46755891e-01 9.23385948e-02]]\n"
     ]
    }
   ],
   "source": [
    "np.random.seed(1)\n",
    "print(np.random.rand(2,3))"
   ]
  },
  {
   "cell_type": "markdown",
   "id": "breathing-steering",
   "metadata": {},
   "source": [
    "#### Statistical Functions"
   ]
  },
  {
   "cell_type": "code",
   "execution_count": 57,
   "id": "sharing-crawford",
   "metadata": {},
   "outputs": [
    {
     "name": "stdout",
     "output_type": "stream",
     "text": [
      "[[1 2 3]\n",
      " [3 4 5]]\n",
      "1\n",
      "[1 2 3]\n"
     ]
    }
   ],
   "source": [
    "# Min Function \n",
    "e1 = np.array([[1,2,3],[3,4,5]])\n",
    "print(e1)\n",
    "# Gives the minimum element in the array\n",
    "print(np.min(e1))\n",
    "# Minimum element across axis = 0 \n",
    "print(np.min(e1,axis = 0))"
   ]
  },
  {
   "cell_type": "code",
   "execution_count": 58,
   "id": "responsible-overview",
   "metadata": {},
   "outputs": [
    {
     "name": "stdout",
     "output_type": "stream",
     "text": [
      "[[1 2 3]\n",
      " [3 4 5]]\n",
      "3.0\n",
      "[2. 3. 4.]\n",
      "3.0\n"
     ]
    }
   ],
   "source": [
    "# Mean Function \n",
    "e1 = np.array([[1,2,3],[3,4,5]])\n",
    "print(e1)\n",
    "# Gives the mean of the array\n",
    "print(np.mean(e1))\n",
    "# Mean across axis = 0 \n",
    "print(np.mean(e1,axis = 0))\n",
    "# Mean using sum function\n",
    "print(np.sum(e1)/(e1.shape[0]*e1.shape[1]))"
   ]
  },
  {
   "cell_type": "code",
   "execution_count": 59,
   "id": "viral-truth",
   "metadata": {},
   "outputs": [
    {
     "name": "stdout",
     "output_type": "stream",
     "text": [
      "[[1 2 3]\n",
      " [3 4 5]]\n",
      "3.0\n"
     ]
    }
   ],
   "source": [
    "# Median Function \n",
    "e1 = np.array([[1,2,3],[3,4,5]])\n",
    "print(e1)\n",
    "# Gives the median of the array\n",
    "print(np.median(e1))"
   ]
  },
  {
   "cell_type": "code",
   "execution_count": 60,
   "id": "ethical-cloud",
   "metadata": {},
   "outputs": [
    {
     "name": "stdout",
     "output_type": "stream",
     "text": [
      "3.6666666666666665\n"
     ]
    }
   ],
   "source": [
    "# Average Function - Average is Weighted as compared to mean function \n",
    "w = np.array([1,2,3,4,5])\n",
    "weights = [1,2,3,4,5]\n",
    "print(np.average(w,weights = weights))"
   ]
  },
  {
   "cell_type": "code",
   "execution_count": 61,
   "id": "sunset-blend",
   "metadata": {},
   "outputs": [
    {
     "name": "stdout",
     "output_type": "stream",
     "text": [
      "1.4142135623730951\n",
      "1.4142135623730951\n"
     ]
    }
   ],
   "source": [
    "# Standard Deviation\n",
    "print(np.std(w))\n",
    "# Standard Deviation without using function\n",
    "x = np.mean(w)\n",
    "std = np.sqrt(np.mean(abs(w-x)**2))\n",
    "print(std)"
   ]
  },
  {
   "cell_type": "markdown",
   "id": "variable-delaware",
   "metadata": {},
   "source": [
    "#### Transposing"
   ]
  },
  {
   "cell_type": "code",
   "execution_count": 74,
   "id": "passive-patio",
   "metadata": {},
   "outputs": [
    {
     "name": "stdout",
     "output_type": "stream",
     "text": [
      "[[0 1]\n",
      " [2 3]\n",
      " [4 5]]\n",
      "Shape: (3, 2)\n",
      "[[0 2 4]\n",
      " [1 3 5]]\n",
      "Shape: (2, 3)\n"
     ]
    }
   ],
   "source": [
    "# Original Array\n",
    "a = np.arange(0,6).reshape(3,2)\n",
    "print(a)\n",
    "print('Shape:',a.shape)\n",
    "# Transpose\n",
    "print(a.T)\n",
    "print('Shape:',a.T.shape)"
   ]
  },
  {
   "cell_type": "markdown",
   "id": "danish-rebate",
   "metadata": {},
   "source": [
    "#### Argmax"
   ]
  },
  {
   "cell_type": "markdown",
   "id": "hazardous-trauma",
   "metadata": {},
   "source": [
    "Argmax returns the indices of the maximum value along a axis"
   ]
  },
  {
   "cell_type": "code",
   "execution_count": 83,
   "id": "proud-cleaning",
   "metadata": {},
   "outputs": [
    {
     "name": "stdout",
     "output_type": "stream",
     "text": [
      "[[0 1]\n",
      " [2 3]\n",
      " [4 5]]\n",
      "[1 1 1]\n"
     ]
    }
   ],
   "source": [
    "# Array\n",
    "print(a)\n",
    "# Indices of maximum value along the row\n",
    "print(a.argmax(axis = 1))"
   ]
  },
  {
   "cell_type": "markdown",
   "id": "demanding-baseline",
   "metadata": {},
   "source": [
    "#### Typecasting "
   ]
  },
  {
   "cell_type": "markdown",
   "id": "first-event",
   "metadata": {},
   "source": [
    "Used to change the type of the array"
   ]
  },
  {
   "cell_type": "code",
   "execution_count": 87,
   "id": "pretty-gates",
   "metadata": {},
   "outputs": [
    {
     "name": "stdout",
     "output_type": "stream",
     "text": [
      "[[0 1]\n",
      " [2 3]\n",
      " [4 5]]\n",
      "[[0. 1.]\n",
      " [2. 3.]\n",
      " [4. 5.]]\n"
     ]
    }
   ],
   "source": [
    "# Array\n",
    "print(a)\n",
    "# Typecast array to float. Does not change it inplace\n",
    "print(a.astype('float64'))"
   ]
  },
  {
   "cell_type": "markdown",
   "id": "serious-blackberry",
   "metadata": {},
   "source": [
    "#### Condtional Indexing"
   ]
  },
  {
   "cell_type": "code",
   "execution_count": 99,
   "id": "documented-composer",
   "metadata": {},
   "outputs": [
    {
     "name": "stdout",
     "output_type": "stream",
     "text": [
      "[[ 0  1  2  3  4]\n",
      " [ 5  6  7  8  9]\n",
      " [10 11 12 13 14]\n",
      " [15 16 17 18 19]\n",
      " [20 21 22 23 24]\n",
      " [25 26 27 28 29]]\n"
     ]
    }
   ],
   "source": [
    "# Array\n",
    "b = np.arange(0,30).reshape(6,-1)\n",
    "print(b)"
   ]
  },
  {
   "cell_type": "code",
   "execution_count": 101,
   "id": "accredited-bullet",
   "metadata": {},
   "outputs": [
    {
     "name": "stdout",
     "output_type": "stream",
     "text": [
      "[[ True  True  True  True  True]\n",
      " [False False False False False]\n",
      " [False False False False False]\n",
      " [False False False False False]\n",
      " [False False False False False]\n",
      " [False  True  True  True  True]]\n",
      "[ 0  1  2  3  4 26 27 28 29]\n"
     ]
    }
   ],
   "source": [
    "# Logic: Print values greater the 25 or less than 5\n",
    "print((b>25) | (b<5))\n",
    "print(b[(b>25) | (b<5)])"
   ]
  },
  {
   "cell_type": "code",
   "execution_count": 97,
   "id": "going-valley",
   "metadata": {},
   "outputs": [
    {
     "name": "stdout",
     "output_type": "stream",
     "text": [
      "[ 0  1  2  3  4 26 27 28 29]\n"
     ]
    }
   ],
   "source": [
    "# Logic: Print values greater the 25 or less than 5 - Using np.where\n",
    "print(b[np.where((b>25) | (b<5))])"
   ]
  },
  {
   "cell_type": "code",
   "execution_count": 102,
   "id": "respective-discretion",
   "metadata": {},
   "outputs": [
    {
     "name": "stdout",
     "output_type": "stream",
     "text": [
      "[[ 0  1  2  3  4]\n",
      " [ 5  6  7  8  9]\n",
      " [10 11 12 13 14]\n",
      " [15 16 17 18 19]\n",
      " [20 21 22 23 24]\n",
      " [25 30 30 30 30]]\n"
     ]
    }
   ],
   "source": [
    "# Logic: Assigning value 30 to all the the values greater than 25\n",
    "b[(b>25)] = 30\n",
    "print(b)"
   ]
  },
  {
   "cell_type": "markdown",
   "id": "elementary-marketplace",
   "metadata": {},
   "source": [
    "#### Enumerate Function"
   ]
  },
  {
   "cell_type": "markdown",
   "id": "monetary-prague",
   "metadata": {},
   "source": [
    "Enumerate takes a iterable, adds a counter to the iterable and returns an enumerate object"
   ]
  },
  {
   "cell_type": "code",
   "execution_count": 103,
   "id": "accepted-italy",
   "metadata": {},
   "outputs": [
    {
     "name": "stdout",
     "output_type": "stream",
     "text": [
      "Row 0 is [0 1 2 3 4]\n",
      "Row 1 is [5 6 7 8 9]\n",
      "Row 2 is [10 11 12 13 14]\n",
      "Row 3 is [15 16 17 18 19]\n",
      "Row 4 is [20 21 22 23 24]\n",
      "Row 5 is [25 30 30 30 30]\n"
     ]
    }
   ],
   "source": [
    "for i, row in enumerate(b):\n",
    "        print(\"Row {} is {}\".format(i, row))"
   ]
  },
  {
   "cell_type": "markdown",
   "id": "healthy-kitty",
   "metadata": {},
   "source": [
    "#### Zip Function"
   ]
  },
  {
   "cell_type": "markdown",
   "id": "quantitative-monster",
   "metadata": {},
   "source": [
    "The zip() function returns a zip object, which is an iterator of tuples where the first item in each passed iterator is paired together, and then the second item in each passed iterator are paired together etc."
   ]
  },
  {
   "cell_type": "code",
   "execution_count": 104,
   "id": "laughing-massachusetts",
   "metadata": {},
   "outputs": [
    {
     "name": "stdout",
     "output_type": "stream",
     "text": [
      "[0 1 2 3 4] + [1 2 3 4 5] = [1 3 5 7 9]\n",
      "[5 6 7 8 9] + [ 6  7  8  9 10] = [11 13 15 17 19]\n",
      "[10 11 12 13 14] + [11 12 13 14 15] = [21 23 25 27 29]\n",
      "[15 16 17 18 19] + [16 17 18 19 20] = [31 33 35 37 39]\n",
      "[20 21 22 23 24] + [21 22 23 24 25] = [41 43 45 47 49]\n",
      "[25 30 30 30 30] + [26 31 31 31 31] = [51 61 61 61 61]\n"
     ]
    }
   ],
   "source": [
    "for i,j in zip(b, b+1):\n",
    "    print(i, '+', j, '=', i+j)"
   ]
  },
  {
   "cell_type": "code",
   "execution_count": 105,
   "id": "collected-rebecca",
   "metadata": {},
   "outputs": [
    {
     "data": {
      "text/plain": [
       "[(array([0, 1, 2, 3, 4]), array([1, 2, 3, 4, 5])),\n",
       " (array([5, 6, 7, 8, 9]), array([ 6,  7,  8,  9, 10])),\n",
       " (array([10, 11, 12, 13, 14]), array([11, 12, 13, 14, 15])),\n",
       " (array([15, 16, 17, 18, 19]), array([16, 17, 18, 19, 20])),\n",
       " (array([20, 21, 22, 23, 24]), array([21, 22, 23, 24, 25])),\n",
       " (array([25, 30, 30, 30, 30]), array([26, 31, 31, 31, 31]))]"
      ]
     },
     "execution_count": 105,
     "metadata": {},
     "output_type": "execute_result"
    }
   ],
   "source": [
    "list(zip(b,b+1))"
   ]
  },
  {
   "cell_type": "markdown",
   "id": "enhanced-climate",
   "metadata": {},
   "source": [
    "#### Unique Function"
   ]
  },
  {
   "cell_type": "markdown",
   "id": "equivalent-skiing",
   "metadata": {},
   "source": [
    "<small> Gives the number of unique values and there count"
   ]
  },
  {
   "cell_type": "code",
   "execution_count": 5,
   "id": "trying-spare",
   "metadata": {},
   "outputs": [
    {
     "name": "stdout",
     "output_type": "stream",
     "text": [
      "[ 2. -1.  2.  1. -0.  0.  0. -1.  0. -1.  1. -0. -1.  0.  0.  1.  1.  2.\n",
      " -1.  1.  0.  0.  1.  1.  1. -0.  1.  1.  0.  0. -1. -1.  0. -0.  1. -3.\n",
      "  1. -1. -1. -0. -0. -1.  0.  2. -0.  0.  0. -1.  0. -1.  1.  0.  0.  1.\n",
      " -1. -1.  0. -0. -0.  1. -1.  1.  0.  1.  0.  1.  0.  1. -1. -2.  2. -0.\n",
      " -0. -1. -0. -0.  1.  1.  1. -2.  0.  1.  1.  1. -2. -0.  1.  0.  0.  1.\n",
      " -1.  0.  1. -2. -0. -1. -0.  1. -0.  1.]\n"
     ]
    },
    {
     "data": {
      "text/plain": [
       "(array([-3., -2., -1.,  0.,  1.,  2.]),\n",
       " array([ 1,  4, 19, 41, 30,  5], dtype=int64))"
      ]
     },
     "execution_count": 5,
     "metadata": {},
     "output_type": "execute_result"
    }
   ],
   "source": [
    "a = np.round(np.random.randn(100))\n",
    "print(a)\n",
    "\n",
    "# Unique values\n",
    "np.unique(a,return_counts=True)"
   ]
  },
  {
   "cell_type": "code",
   "execution_count": null,
   "id": "noble-massage",
   "metadata": {},
   "outputs": [],
   "source": []
  }
 ],
 "metadata": {
  "kernelspec": {
   "display_name": "Python 3",
   "language": "python",
   "name": "python3"
  },
  "language_info": {
   "codemirror_mode": {
    "name": "ipython",
    "version": 3
   },
   "file_extension": ".py",
   "mimetype": "text/x-python",
   "name": "python",
   "nbconvert_exporter": "python",
   "pygments_lexer": "ipython3",
   "version": "3.7.3"
  }
 },
 "nbformat": 4,
 "nbformat_minor": 5
}
